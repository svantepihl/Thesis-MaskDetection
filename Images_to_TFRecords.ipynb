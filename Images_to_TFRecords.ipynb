{
  "nbformat": 4,
  "nbformat_minor": 0,
  "metadata": {
    "colab": {
      "name": "Images-to-TFRecords.ipynb",
      "provenance": [],
      "collapsed_sections": [],
      "toc_visible": true,
      "include_colab_link": true
    },
    "environment": {
      "name": "tf22-cpu.2-2.m47",
      "type": "gcloud",
      "uri": "gcr.io/deeplearning-platform-release/tf22-cpu.2-2:m47"
    },
    "kernelspec": {
      "display_name": "Python 3",
      "language": "python",
      "name": "python3"
    },
    "language_info": {
      "codemirror_mode": {
        "name": "ipython",
        "version": 3
      },
      "file_extension": ".py",
      "mimetype": "text/x-python",
      "name": "python",
      "nbconvert_exporter": "python",
      "pygments_lexer": "ipython3",
      "version": "3.7.6"
    }
  },
  "cells": [
    {
      "cell_type": "markdown",
      "metadata": {
        "id": "view-in-github",
        "colab_type": "text"
      },
      "source": [
        "<a href=\"https://colab.research.google.com/github/svantepihl/Thesis-MaskDetection/blob/master/Images_to_TFRecords.ipynb\" target=\"_parent\"><img src=\"https://colab.research.google.com/assets/colab-badge.svg\" alt=\"Open In Colab\"/></a>"
      ]
    },
    {
      "cell_type": "markdown",
      "metadata": {
        "id": "fNBni1yTPbzS"
      },
      "source": [
        "**Credits**\n",
        "\n",
        "https://codelabs.developers.google.com/codelabs/keras-flowers-tpu#4"
      ]
    },
    {
      "cell_type": "markdown",
      "metadata": {
        "id": "89B27-TGiDNB"
      },
      "source": [
        "## Imports"
      ]
    },
    {
      "cell_type": "code",
      "metadata": {
        "id": "U6rgexPXmY37"
      },
      "source": [
        "import os, sys, math\n",
        "import numpy as np\n",
        "from matplotlib import pyplot as plt\n",
        "import tensorflow as tf\n",
        "print(\"Tensorflow version \" + tf.__version__)\n",
        "AUTO = tf.data.experimental.AUTOTUNE # used in tf.data.Dataset API"
      ],
      "execution_count": null,
      "outputs": []
    },
    {
      "cell_type": "markdown",
      "metadata": {
        "id": "w9S3uKC_iXY5"
      },
      "source": [
        "## Configuration"
      ]
    },
    {
      "cell_type": "code",
      "metadata": {
        "id": "d8K6hL_kiWve"
      },
      "source": [
        "GCS_FOLDER = 'gs://facemask-detection-thesis-images-jpeg/'\n",
        "GCS_PATTERN = GCS_FOLDER + '**/*.jp*'\n",
        "GCS_OUTPUT = 'gs://facemask-detection-thesis-32-tfrecords-jpeg-224x224/'  # prefix for output file names\n",
        "SHARDS = 32\n",
        "TARGET_WIDTH = 224\n",
        "TARGET_HEIGHT = 224\n",
        "TARGET_SIZE = [TARGET_WIDTH, TARGET_HEIGHT]\n",
        "CLASSES = [b'MaskCorrect', b'MaskOnChin', b'MaskOnlyOnMouth', b'NoMask'] # do not change, maps to the labels in the data (folder names)\n",
        "STR_CLASSES = ['MaskCorrect', 'MaskOnChin', 'MaskOnlyOnMouth', 'NoMask']"
      ],
      "execution_count": null,
      "outputs": []
    },
    {
      "cell_type": "code",
      "metadata": {
        "id": "MPkvHdAYNt9J"
      },
      "source": [
        "# Utility function to plot images\n",
        "def display_9_images_from_dataset(dataset):\n",
        "  plt.figure(figsize=(13,13))\n",
        "  subplot=331\n",
        "  for i, (image, label) in enumerate(dataset):\n",
        "    plt.subplot(subplot)\n",
        "    plt.axis('off')\n",
        "    plt.imshow(image.numpy().astype(np.uint8))\n",
        "    plt.title(label.numpy().decode(\"utf-8\"), fontsize=16)\n",
        "    subplot += 1\n",
        "    if i==8:\n",
        "      break\n",
        "  plt.tight_layout()\n",
        "  plt.subplots_adjust(wspace=0.1, hspace=0.1)\n",
        "  plt.show()"
      ],
      "execution_count": null,
      "outputs": []
    },
    {
      "cell_type": "markdown",
      "metadata": {
        "id": "MSDlLsAZh_se"
      },
      "source": [
        "## GCP auth"
      ]
    },
    {
      "cell_type": "code",
      "metadata": {
        "id": "5gAaIXGJmRuU"
      },
      "source": [
        "if 'google.colab' in sys.modules:\n",
        "   from google.colab import auth\n",
        "   auth.authenticate_user()"
      ],
      "execution_count": null,
      "outputs": []
    },
    {
      "cell_type": "markdown",
      "metadata": {
        "id": "kvPXiovhi3ZZ"
      },
      "source": [
        "## Read images and labels"
      ]
    },
    {
      "cell_type": "code",
      "metadata": {
        "id": "nwsZ8X59mu24"
      },
      "source": [
        "nb_images = len(tf.io.gfile.glob(GCS_PATTERN))\n",
        "for label in STR_CLASSES:\n",
        "  class_pattern = GCS_FOLDER+str(label)+'/*.*'\n",
        "  print(class_pattern)\n",
        "  print(str(label) + \" images: \" + str(len(tf.io.gfile.glob(class_pattern))))\n",
        "shard_size = math.ceil(1.0 * nb_images / SHARDS)\n",
        "print(\"Pattern matches {} images which will be rewritten as {} .tfrec files containing {} images each.\".format(nb_images, SHARDS, shard_size))\n",
        "\n",
        "def decode_jpeg_and_label(filename):\n",
        "  bits = tf.io.read_file(filename)\n",
        "  image = tf.image.decode_jpeg(bits)\n",
        "  # parse flower name from containing directory\n",
        "  label = tf.strings.split(tf.expand_dims(filename, axis=-1), sep='/')\n",
        "  label = label.values[-2]\n",
        "  return image, label\n",
        "\n",
        "filenames = tf.data.Dataset.list_files(GCS_PATTERN, seed=35155) # This also shuffles the images\n",
        "dataset1 = filenames.map(decode_jpeg_and_label, num_parallel_calls=AUTO)"
      ],
      "execution_count": null,
      "outputs": []
    },
    {
      "cell_type": "code",
      "metadata": {
        "id": "FLapQxGSbJ71"
      },
      "source": [
        "display_9_images_from_dataset(dataset1)"
      ],
      "execution_count": null,
      "outputs": []
    },
    {
      "cell_type": "markdown",
      "metadata": {
        "id": "sEq3jYKIjGcq"
      },
      "source": [
        "## Resize and crop images to common size"
      ]
    },
    {
      "cell_type": "code",
      "metadata": {
        "id": "T6SfG6W-O3Ua"
      },
      "source": [
        "def resize_image_fill(image, label):\n",
        "  # Resize and crop using \"fill\" algorithm:\n",
        "  # always make sure the resulting image\n",
        "  # is cut out from the source image so that\n",
        "  # it fills the TARGET_SIZE entirely with no\n",
        "  # black bars and a preserved aspect ratio.\n",
        "  w = tf.shape(image)[0]\n",
        "  h = tf.shape(image)[1]\n",
        "  tw = TARGET_SIZE[1]\n",
        "  th = TARGET_SIZE[0]\n",
        "  resize_crit = (w * th) / (h * tw)\n",
        "  image = tf.cond(resize_crit < 1,\n",
        "                  lambda: tf.image.resize(image, [w*tw/w, h*tw/w]), # if true\n",
        "                  lambda: tf.image.resize(image, [w*th/h, h*th/h])  # if false\n",
        "                 )\n",
        "  nw = tf.shape(image)[0]\n",
        "  nh = tf.shape(image)[1]\n",
        "  image = tf.image.crop_to_bounding_box(image, (nw - tw) // 2, (nh - th) // 2, tw, th)\n",
        "  return image, label"
      ],
      "execution_count": null,
      "outputs": []
    },
    {
      "cell_type": "code",
      "metadata": {
        "id": "Zq3PNuXmYaK0"
      },
      "source": [
        "def resize_image_tensorflow(image, label):\n",
        "  image = tf.image.resize(\n",
        "      image, \n",
        "      TARGET_SIZE, \n",
        "      method=tf.image.ResizeMethod.AREA, \n",
        "      preserve_aspect_ratio=False,\n",
        "      antialias=True)\n",
        "  return image, label"
      ],
      "execution_count": null,
      "outputs": []
    },
    {
      "cell_type": "code",
      "metadata": {
        "id": "jhC7qsFCaZYe"
      },
      "source": [
        "dataset2 = dataset1.map(resize_image_tensorflow, num_parallel_calls=AUTO)  "
      ],
      "execution_count": null,
      "outputs": []
    },
    {
      "cell_type": "code",
      "metadata": {
        "id": "BpwWjVN9PuCt"
      },
      "source": [
        "display_9_images_from_dataset(dataset2)"
      ],
      "execution_count": null,
      "outputs": []
    },
    {
      "cell_type": "markdown",
      "metadata": {
        "id": "WgMEC36wjYtP"
      },
      "source": [
        "## Recompress the images"
      ]
    },
    {
      "cell_type": "code",
      "metadata": {
        "id": "oYzgji7agVg4"
      },
      "source": [
        "def recompress_image(image, label):\n",
        "  height = tf.shape(image)[0]\n",
        "  width = tf.shape(image)[1]\n",
        "  image = tf.cast(image, tf.uint8)\n",
        "  image = tf.image.encode_jpeg(image, optimize_size=True, chroma_downsampling=False)\n",
        "  return image, label\n",
        "dataset3 = dataset2.map(recompress_image, num_parallel_calls=AUTO)\n",
        "dataset3 = dataset3.batch(shard_size) # sharding: there will be one \"batch\" of images per file "
      ],
      "execution_count": null,
      "outputs": []
    },
    {
      "cell_type": "markdown",
      "metadata": {
        "id": "cDIfPMGCjqLO"
      },
      "source": [
        "## Write dataset to TFRecord files"
      ]
    },
    {
      "cell_type": "code",
      "metadata": {
        "id": "9X82-4D2syG4"
      },
      "source": [
        "# Three types of data can be stored in TFRecords: bytestrings, integers and floats\n",
        "# They are always stored as lists, a single data element will be a list of size 1\n",
        "\n",
        "def _bytestring_feature(list_of_bytestrings):\n",
        "  return tf.train.Feature(bytes_list=tf.train.BytesList(value=list_of_bytestrings))\n",
        "\n",
        "def _int_feature(list_of_ints): # int64\n",
        "  return tf.train.Feature(int64_list=tf.train.Int64List(value=list_of_ints))\n",
        "\n",
        "def _float_feature(list_of_floats): # float32\n",
        "  return tf.train.Feature(float_list=tf.train.FloatList(value=list_of_floats))\n",
        "  \n",
        "\n",
        "def to_tfrecord(tfrec_filewriter, img_bytes, label,):  \n",
        "  class_num = np.argmax(np.array(CLASSES)==label) # order defined in CLASSES\n",
        "  one_hot_class = tf.one_hot(class_num,len(CLASSES)).numpy().tolist()\n",
        "\n",
        "  features = {\n",
        "      \"image\": _bytestring_feature([img_bytes]), # one image in the list\n",
        "      \"class\": _int_feature([class_num]),        # one class in the list\n",
        "      \"one_hot_class\": _float_feature(one_hot_class) # variable length  list of floats, n=len(CLASSES)\n",
        "  }\n",
        "  return tf.train.Example(features=tf.train.Features(feature=features))\n",
        "  \n",
        "print(\"Writing TFRecords\")\n",
        "for shard, (image, label) in enumerate(dataset3):\n",
        "  # batch size used as shard size here\n",
        "  shard_size = image.numpy().shape[0]\n",
        "  # good practice to have the number of records in the filename\n",
        "  filename = GCS_OUTPUT + \"{:02d}-{}.tfrec\".format(shard, shard_size)\n",
        "  \n",
        "  with tf.io.TFRecordWriter(filename) as out_file:\n",
        "    for i in range(shard_size):\n",
        "      example = to_tfrecord(out_file,\n",
        "                            image.numpy()[i], # re-compressed image: already a byte string\n",
        "                            label.numpy()[i])\n",
        "      out_file.write(example.SerializeToString())\n",
        "    print(\"Wrote file {} containing {} records\".format(filename, shard_size))"
      ],
      "execution_count": null,
      "outputs": []
    },
    {
      "cell_type": "code",
      "metadata": {
        "id": "HtOLTj64NVZ2"
      },
      "source": [
        "print(\"Done!\")"
      ],
      "execution_count": null,
      "outputs": []
    }
  ]
}
{
  "nbformat": 4,
  "nbformat_minor": 0,
  "metadata": {
    "colab": {
      "name": "Compile to TPU models.ipynb",
      "provenance": [],
      "toc_visible": true,
      "mount_file_id": "1RAeHEsnZxND9irWvmIDAoUo5dNScNPF0",
      "authorship_tag": "ABX9TyOkG8Fs1GvZRYEe9152nFfI",
      "include_colab_link": true
    },
    "kernelspec": {
      "name": "python3",
      "display_name": "Python 3"
    },
    "language_info": {
      "name": "python"
    }
  },
  "cells": [
    {
      "cell_type": "markdown",
      "metadata": {
        "id": "view-in-github",
        "colab_type": "text"
      },
      "source": [
        "<a href=\"https://colab.research.google.com/github/svantepihl/Thesis-MaskDetection/blob/master/Compile_to_TPU_models.ipynb\" target=\"_parent\"><img src=\"https://colab.research.google.com/assets/colab-badge.svg\" alt=\"Open In Colab\"/></a>"
      ]
    },
    {
      "cell_type": "markdown",
      "metadata": {
        "id": "eGsnKs161aJl"
      },
      "source": [
        "# Download Egde TPU Compiler"
      ]
    },
    {
      "cell_type": "code",
      "metadata": {
        "id": "jB86Qkd-1YxE"
      },
      "source": [
        "! curl https://packages.cloud.google.com/apt/doc/apt-key.gpg | sudo apt-key add -\n",
        "\n",
        "! echo \"deb https://packages.cloud.google.com/apt coral-edgetpu-stable main\" | sudo tee /etc/apt/sources.list.d/coral-edgetpu.list\n",
        "\n",
        "! sudo apt-get update\n",
        "\n",
        "! sudo apt-get install edgetpu-compiler\t"
      ],
      "execution_count": null,
      "outputs": []
    },
    {
      "cell_type": "markdown",
      "metadata": {
        "id": "CfyscY5_1kl5"
      },
      "source": [
        "# Load dependencies"
      ]
    },
    {
      "cell_type": "code",
      "metadata": {
        "id": "qqHAPI_qHi7d"
      },
      "source": [
        "import os\n",
        "import sys\n",
        "%tensorflow_version 2.x\n",
        "import tensorflow as tf\n",
        "print(\"Tensorflow version \" + tf.__version__)"
      ],
      "execution_count": null,
      "outputs": []
    },
    {
      "cell_type": "markdown",
      "metadata": {
        "id": "DkdH5feL3QkJ"
      },
      "source": [
        "# Set path variables"
      ]
    },
    {
      "cell_type": "code",
      "metadata": {
        "id": "jpGKYHyC3Puz"
      },
      "source": [
        "classification_model_path = '/content/drive/MyDrive/MaskedFace/Models/final_model_quant.tflite'"
      ],
      "execution_count": null,
      "outputs": []
    },
    {
      "cell_type": "code",
      "metadata": {
        "id": "1kvgIZiX3J0L"
      },
      "source": [
        "detector_model_path = '/content/drive/MyDrive/MaskedFace/Models/ssd_mobilenet_v2_face_quant_postprocess.tflite'"
      ],
      "execution_count": null,
      "outputs": []
    },
    {
      "cell_type": "code",
      "metadata": {
        "id": "Zp1udfVW3sJY"
      },
      "source": [
        "MODEL_FOLDER = '/content/drive/MyDrive/MaskedFace/Models'"
      ],
      "execution_count": null,
      "outputs": []
    },
    {
      "cell_type": "markdown",
      "metadata": {
        "id": "qkzlrDuN24-U"
      },
      "source": [
        "# Co-compile Models"
      ]
    },
    {
      "cell_type": "code",
      "metadata": {
        "id": "DoibdqKXH05R"
      },
      "source": [
        "! edgetpu_compiler $detector_model_path $classification_model_path -o $MODEL_FOLDER"
      ],
      "execution_count": null,
      "outputs": []
    }
  ]
}